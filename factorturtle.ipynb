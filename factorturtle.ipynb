{
 "cells": [
  {
   "cell_type": "code",
   "execution_count": 1,
   "metadata": {},
   "outputs": [],
   "source": [
    "%matplotlib inline\n",
    "import matplotlib.pyplot as plt\n",
    "import numpy as np\n",
    "import pandas as pd\n",
    "plt.rc(\"figure\", figsize=(16,6))"
   ]
  },
  {
   "cell_type": "code",
   "execution_count": 2,
   "metadata": {},
   "outputs": [
    {
     "data": {
      "text/html": [
       "<div>\n",
       "<style scoped>\n",
       "    .dataframe tbody tr th:only-of-type {\n",
       "        vertical-align: middle;\n",
       "    }\n",
       "\n",
       "    .dataframe tbody tr th {\n",
       "        vertical-align: top;\n",
       "    }\n",
       "\n",
       "    .dataframe thead th {\n",
       "        text-align: right;\n",
       "    }\n",
       "</style>\n",
       "<table border=\"1\" class=\"dataframe\">\n",
       "  <thead>\n",
       "    <tr style=\"text-align: right;\">\n",
       "      <th></th>\n",
       "      <th>ABEV3.SA</th>\n",
       "      <th>ALOS3.SA</th>\n",
       "      <th>ALPA4.SA</th>\n",
       "      <th>ARZZ3.SA</th>\n",
       "      <th>ASAI3.SA</th>\n",
       "      <th>AZUL4.SA</th>\n",
       "      <th>B3SA3.SA</th>\n",
       "      <th>BBAS3.SA</th>\n",
       "      <th>BBDC3.SA</th>\n",
       "      <th>BBDC4.SA</th>\n",
       "      <th>...</th>\n",
       "      <th>TOTS3.SA</th>\n",
       "      <th>TRPL4.SA</th>\n",
       "      <th>UGPA3.SA</th>\n",
       "      <th>USIM5.SA</th>\n",
       "      <th>VALE3.SA</th>\n",
       "      <th>VAMO3.SA</th>\n",
       "      <th>VBBR3.SA</th>\n",
       "      <th>VIVT3.SA</th>\n",
       "      <th>WEGE3.SA</th>\n",
       "      <th>YDUQ3.SA</th>\n",
       "    </tr>\n",
       "    <tr>\n",
       "      <th>Date</th>\n",
       "      <th></th>\n",
       "      <th></th>\n",
       "      <th></th>\n",
       "      <th></th>\n",
       "      <th></th>\n",
       "      <th></th>\n",
       "      <th></th>\n",
       "      <th></th>\n",
       "      <th></th>\n",
       "      <th></th>\n",
       "      <th></th>\n",
       "      <th></th>\n",
       "      <th></th>\n",
       "      <th></th>\n",
       "      <th></th>\n",
       "      <th></th>\n",
       "      <th></th>\n",
       "      <th></th>\n",
       "      <th></th>\n",
       "      <th></th>\n",
       "      <th></th>\n",
       "    </tr>\n",
       "  </thead>\n",
       "  <tbody>\n",
       "    <tr>\n",
       "      <th>2010-02-01</th>\n",
       "      <td>3.603019</td>\n",
       "      <td>NaN</td>\n",
       "      <td>2.574450</td>\n",
       "      <td>NaN</td>\n",
       "      <td>NaN</td>\n",
       "      <td>NaN</td>\n",
       "      <td>7.771203</td>\n",
       "      <td>12.058657</td>\n",
       "      <td>4.660879</td>\n",
       "      <td>6.272922</td>\n",
       "      <td>...</td>\n",
       "      <td>5.800764</td>\n",
       "      <td>4.768429</td>\n",
       "      <td>2.192937</td>\n",
       "      <td>19.565647</td>\n",
       "      <td>22.915565</td>\n",
       "      <td>NaN</td>\n",
       "      <td>NaN</td>\n",
       "      <td>12.078684</td>\n",
       "      <td>2.019500</td>\n",
       "      <td>5.399953</td>\n",
       "    </tr>\n",
       "    <tr>\n",
       "      <th>2010-02-02</th>\n",
       "      <td>3.691014</td>\n",
       "      <td>NaN</td>\n",
       "      <td>2.593734</td>\n",
       "      <td>NaN</td>\n",
       "      <td>NaN</td>\n",
       "      <td>NaN</td>\n",
       "      <td>7.789201</td>\n",
       "      <td>12.299834</td>\n",
       "      <td>4.715263</td>\n",
       "      <td>6.372306</td>\n",
       "      <td>...</td>\n",
       "      <td>5.816371</td>\n",
       "      <td>4.778446</td>\n",
       "      <td>2.192937</td>\n",
       "      <td>19.635506</td>\n",
       "      <td>22.915565</td>\n",
       "      <td>NaN</td>\n",
       "      <td>NaN</td>\n",
       "      <td>12.049135</td>\n",
       "      <td>1.994980</td>\n",
       "      <td>5.306850</td>\n",
       "    </tr>\n",
       "    <tr>\n",
       "      <th>2010-02-03</th>\n",
       "      <td>3.745714</td>\n",
       "      <td>NaN</td>\n",
       "      <td>2.585258</td>\n",
       "      <td>NaN</td>\n",
       "      <td>NaN</td>\n",
       "      <td>NaN</td>\n",
       "      <td>7.765199</td>\n",
       "      <td>11.998370</td>\n",
       "      <td>4.731407</td>\n",
       "      <td>6.332911</td>\n",
       "      <td>...</td>\n",
       "      <td>5.826256</td>\n",
       "      <td>4.757412</td>\n",
       "      <td>2.192937</td>\n",
       "      <td>19.484135</td>\n",
       "      <td>22.865543</td>\n",
       "      <td>NaN</td>\n",
       "      <td>NaN</td>\n",
       "      <td>12.013021</td>\n",
       "      <td>2.023957</td>\n",
       "      <td>5.306850</td>\n",
       "    </tr>\n",
       "    <tr>\n",
       "      <th>2010-02-04</th>\n",
       "      <td>3.591129</td>\n",
       "      <td>NaN</td>\n",
       "      <td>2.542877</td>\n",
       "      <td>NaN</td>\n",
       "      <td>NaN</td>\n",
       "      <td>NaN</td>\n",
       "      <td>7.201109</td>\n",
       "      <td>11.777287</td>\n",
       "      <td>4.589715</td>\n",
       "      <td>6.145776</td>\n",
       "      <td>...</td>\n",
       "      <td>5.722726</td>\n",
       "      <td>4.674283</td>\n",
       "      <td>2.192937</td>\n",
       "      <td>18.727285</td>\n",
       "      <td>21.628588</td>\n",
       "      <td>NaN</td>\n",
       "      <td>NaN</td>\n",
       "      <td>11.999886</td>\n",
       "      <td>2.006125</td>\n",
       "      <td>4.864613</td>\n",
       "    </tr>\n",
       "    <tr>\n",
       "      <th>2010-02-05</th>\n",
       "      <td>3.460326</td>\n",
       "      <td>NaN</td>\n",
       "      <td>2.521685</td>\n",
       "      <td>NaN</td>\n",
       "      <td>NaN</td>\n",
       "      <td>NaN</td>\n",
       "      <td>6.847058</td>\n",
       "      <td>11.214552</td>\n",
       "      <td>4.465959</td>\n",
       "      <td>5.919256</td>\n",
       "      <td>...</td>\n",
       "      <td>5.514107</td>\n",
       "      <td>4.691310</td>\n",
       "      <td>2.192937</td>\n",
       "      <td>18.513811</td>\n",
       "      <td>21.446678</td>\n",
       "      <td>NaN</td>\n",
       "      <td>NaN</td>\n",
       "      <td>11.750370</td>\n",
       "      <td>1.916964</td>\n",
       "      <td>4.885561</td>\n",
       "    </tr>\n",
       "  </tbody>\n",
       "</table>\n",
       "<p>5 rows × 86 columns</p>\n",
       "</div>"
      ],
      "text/plain": [
       "            ABEV3.SA  ALOS3.SA  ALPA4.SA  ARZZ3.SA  ASAI3.SA  AZUL4.SA  \\\n",
       "Date                                                                     \n",
       "2010-02-01  3.603019       NaN  2.574450       NaN       NaN       NaN   \n",
       "2010-02-02  3.691014       NaN  2.593734       NaN       NaN       NaN   \n",
       "2010-02-03  3.745714       NaN  2.585258       NaN       NaN       NaN   \n",
       "2010-02-04  3.591129       NaN  2.542877       NaN       NaN       NaN   \n",
       "2010-02-05  3.460326       NaN  2.521685       NaN       NaN       NaN   \n",
       "\n",
       "            B3SA3.SA   BBAS3.SA  BBDC3.SA  BBDC4.SA  ...  TOTS3.SA  TRPL4.SA  \\\n",
       "Date                                                 ...                       \n",
       "2010-02-01  7.771203  12.058657  4.660879  6.272922  ...  5.800764  4.768429   \n",
       "2010-02-02  7.789201  12.299834  4.715263  6.372306  ...  5.816371  4.778446   \n",
       "2010-02-03  7.765199  11.998370  4.731407  6.332911  ...  5.826256  4.757412   \n",
       "2010-02-04  7.201109  11.777287  4.589715  6.145776  ...  5.722726  4.674283   \n",
       "2010-02-05  6.847058  11.214552  4.465959  5.919256  ...  5.514107  4.691310   \n",
       "\n",
       "            UGPA3.SA   USIM5.SA   VALE3.SA  VAMO3.SA  VBBR3.SA   VIVT3.SA  \\\n",
       "Date                                                                        \n",
       "2010-02-01  2.192937  19.565647  22.915565       NaN       NaN  12.078684   \n",
       "2010-02-02  2.192937  19.635506  22.915565       NaN       NaN  12.049135   \n",
       "2010-02-03  2.192937  19.484135  22.865543       NaN       NaN  12.013021   \n",
       "2010-02-04  2.192937  18.727285  21.628588       NaN       NaN  11.999886   \n",
       "2010-02-05  2.192937  18.513811  21.446678       NaN       NaN  11.750370   \n",
       "\n",
       "            WEGE3.SA  YDUQ3.SA  \n",
       "Date                            \n",
       "2010-02-01  2.019500  5.399953  \n",
       "2010-02-02  1.994980  5.306850  \n",
       "2010-02-03  2.023957  5.306850  \n",
       "2010-02-04  2.006125  4.864613  \n",
       "2010-02-05  1.916964  4.885561  \n",
       "\n",
       "[5 rows x 86 columns]"
      ]
     },
     "execution_count": 2,
     "metadata": {},
     "output_type": "execute_result"
    }
   ],
   "source": [
    "df = pd.read_csv('brazilcloses.csv', parse_dates=[\"Date\"], index_col=[\"Date\"])\n",
    "df.head()"
   ]
  },
  {
   "cell_type": "code",
   "execution_count": 3,
   "metadata": {
    "scrolled": true
   },
   "outputs": [
    {
     "data": {
      "text/html": [
       "<div>\n",
       "<style scoped>\n",
       "    .dataframe tbody tr th:only-of-type {\n",
       "        vertical-align: middle;\n",
       "    }\n",
       "\n",
       "    .dataframe tbody tr th {\n",
       "        vertical-align: top;\n",
       "    }\n",
       "\n",
       "    .dataframe thead th {\n",
       "        text-align: right;\n",
       "    }\n",
       "</style>\n",
       "<table border=\"1\" class=\"dataframe\">\n",
       "  <thead>\n",
       "    <tr style=\"text-align: right;\">\n",
       "      <th></th>\n",
       "      <th>ABEV3.SA</th>\n",
       "      <th>ALOS3.SA</th>\n",
       "      <th>ALPA4.SA</th>\n",
       "      <th>ARZZ3.SA</th>\n",
       "      <th>ASAI3.SA</th>\n",
       "      <th>AZUL4.SA</th>\n",
       "      <th>B3SA3.SA</th>\n",
       "      <th>BBAS3.SA</th>\n",
       "      <th>BBDC3.SA</th>\n",
       "      <th>BBDC4.SA</th>\n",
       "      <th>...</th>\n",
       "      <th>TOTS3.SA</th>\n",
       "      <th>TRPL4.SA</th>\n",
       "      <th>UGPA3.SA</th>\n",
       "      <th>USIM5.SA</th>\n",
       "      <th>VALE3.SA</th>\n",
       "      <th>VAMO3.SA</th>\n",
       "      <th>VBBR3.SA</th>\n",
       "      <th>VIVT3.SA</th>\n",
       "      <th>WEGE3.SA</th>\n",
       "      <th>YDUQ3.SA</th>\n",
       "    </tr>\n",
       "    <tr>\n",
       "      <th>Date</th>\n",
       "      <th></th>\n",
       "      <th></th>\n",
       "      <th></th>\n",
       "      <th></th>\n",
       "      <th></th>\n",
       "      <th></th>\n",
       "      <th></th>\n",
       "      <th></th>\n",
       "      <th></th>\n",
       "      <th></th>\n",
       "      <th></th>\n",
       "      <th></th>\n",
       "      <th></th>\n",
       "      <th></th>\n",
       "      <th></th>\n",
       "      <th></th>\n",
       "      <th></th>\n",
       "      <th></th>\n",
       "      <th></th>\n",
       "      <th></th>\n",
       "      <th></th>\n",
       "    </tr>\n",
       "  </thead>\n",
       "  <tbody>\n",
       "    <tr>\n",
       "      <th>2010-02-02</th>\n",
       "      <td>0.024423</td>\n",
       "      <td>NaN</td>\n",
       "      <td>0.007491</td>\n",
       "      <td>NaN</td>\n",
       "      <td>NaN</td>\n",
       "      <td>NaN</td>\n",
       "      <td>0.002316</td>\n",
       "      <td>0.020000</td>\n",
       "      <td>0.011668</td>\n",
       "      <td>0.015843</td>\n",
       "      <td>...</td>\n",
       "      <td>0.002691</td>\n",
       "      <td>0.002101</td>\n",
       "      <td>0.0</td>\n",
       "      <td>0.003570</td>\n",
       "      <td>0.000000</td>\n",
       "      <td>NaN</td>\n",
       "      <td>NaN</td>\n",
       "      <td>-0.002446</td>\n",
       "      <td>-0.012141</td>\n",
       "      <td>-0.017241</td>\n",
       "    </tr>\n",
       "    <tr>\n",
       "      <th>2010-02-03</th>\n",
       "      <td>0.014820</td>\n",
       "      <td>NaN</td>\n",
       "      <td>-0.003268</td>\n",
       "      <td>NaN</td>\n",
       "      <td>NaN</td>\n",
       "      <td>NaN</td>\n",
       "      <td>-0.003081</td>\n",
       "      <td>-0.024510</td>\n",
       "      <td>0.003424</td>\n",
       "      <td>-0.006182</td>\n",
       "      <td>...</td>\n",
       "      <td>0.001700</td>\n",
       "      <td>-0.004402</td>\n",
       "      <td>0.0</td>\n",
       "      <td>-0.007709</td>\n",
       "      <td>-0.002183</td>\n",
       "      <td>NaN</td>\n",
       "      <td>NaN</td>\n",
       "      <td>-0.002997</td>\n",
       "      <td>0.014525</td>\n",
       "      <td>0.000000</td>\n",
       "    </tr>\n",
       "    <tr>\n",
       "      <th>2010-02-04</th>\n",
       "      <td>-0.041270</td>\n",
       "      <td>NaN</td>\n",
       "      <td>-0.016393</td>\n",
       "      <td>NaN</td>\n",
       "      <td>NaN</td>\n",
       "      <td>NaN</td>\n",
       "      <td>-0.072643</td>\n",
       "      <td>-0.018426</td>\n",
       "      <td>-0.029947</td>\n",
       "      <td>-0.029550</td>\n",
       "      <td>...</td>\n",
       "      <td>-0.017770</td>\n",
       "      <td>-0.017474</td>\n",
       "      <td>0.0</td>\n",
       "      <td>-0.038844</td>\n",
       "      <td>-0.054097</td>\n",
       "      <td>NaN</td>\n",
       "      <td>NaN</td>\n",
       "      <td>-0.001093</td>\n",
       "      <td>-0.008810</td>\n",
       "      <td>-0.083333</td>\n",
       "    </tr>\n",
       "    <tr>\n",
       "      <th>2010-02-05</th>\n",
       "      <td>-0.036424</td>\n",
       "      <td>NaN</td>\n",
       "      <td>-0.008334</td>\n",
       "      <td>NaN</td>\n",
       "      <td>NaN</td>\n",
       "      <td>NaN</td>\n",
       "      <td>-0.049166</td>\n",
       "      <td>-0.047781</td>\n",
       "      <td>-0.026964</td>\n",
       "      <td>-0.036858</td>\n",
       "      <td>...</td>\n",
       "      <td>-0.036454</td>\n",
       "      <td>0.003643</td>\n",
       "      <td>0.0</td>\n",
       "      <td>-0.011399</td>\n",
       "      <td>-0.008411</td>\n",
       "      <td>NaN</td>\n",
       "      <td>NaN</td>\n",
       "      <td>-0.020793</td>\n",
       "      <td>-0.044444</td>\n",
       "      <td>0.004306</td>\n",
       "    </tr>\n",
       "    <tr>\n",
       "      <th>2010-02-08</th>\n",
       "      <td>-0.010309</td>\n",
       "      <td>NaN</td>\n",
       "      <td>0.033530</td>\n",
       "      <td>NaN</td>\n",
       "      <td>NaN</td>\n",
       "      <td>NaN</td>\n",
       "      <td>0.021034</td>\n",
       "      <td>0.012545</td>\n",
       "      <td>-0.010040</td>\n",
       "      <td>-0.001665</td>\n",
       "      <td>...</td>\n",
       "      <td>0.010473</td>\n",
       "      <td>0.014731</td>\n",
       "      <td>0.0</td>\n",
       "      <td>-0.014675</td>\n",
       "      <td>0.007210</td>\n",
       "      <td>NaN</td>\n",
       "      <td>NaN</td>\n",
       "      <td>0.002235</td>\n",
       "      <td>0.032558</td>\n",
       "      <td>-0.030491</td>\n",
       "    </tr>\n",
       "  </tbody>\n",
       "</table>\n",
       "<p>5 rows × 86 columns</p>\n",
       "</div>"
      ],
      "text/plain": [
       "            ABEV3.SA  ALOS3.SA  ALPA4.SA  ARZZ3.SA  ASAI3.SA  AZUL4.SA  \\\n",
       "Date                                                                     \n",
       "2010-02-02  0.024423       NaN  0.007491       NaN       NaN       NaN   \n",
       "2010-02-03  0.014820       NaN -0.003268       NaN       NaN       NaN   \n",
       "2010-02-04 -0.041270       NaN -0.016393       NaN       NaN       NaN   \n",
       "2010-02-05 -0.036424       NaN -0.008334       NaN       NaN       NaN   \n",
       "2010-02-08 -0.010309       NaN  0.033530       NaN       NaN       NaN   \n",
       "\n",
       "            B3SA3.SA  BBAS3.SA  BBDC3.SA  BBDC4.SA  ...  TOTS3.SA  TRPL4.SA  \\\n",
       "Date                                                ...                       \n",
       "2010-02-02  0.002316  0.020000  0.011668  0.015843  ...  0.002691  0.002101   \n",
       "2010-02-03 -0.003081 -0.024510  0.003424 -0.006182  ...  0.001700 -0.004402   \n",
       "2010-02-04 -0.072643 -0.018426 -0.029947 -0.029550  ... -0.017770 -0.017474   \n",
       "2010-02-05 -0.049166 -0.047781 -0.026964 -0.036858  ... -0.036454  0.003643   \n",
       "2010-02-08  0.021034  0.012545 -0.010040 -0.001665  ...  0.010473  0.014731   \n",
       "\n",
       "            UGPA3.SA  USIM5.SA  VALE3.SA  VAMO3.SA  VBBR3.SA  VIVT3.SA  \\\n",
       "Date                                                                     \n",
       "2010-02-02       0.0  0.003570  0.000000       NaN       NaN -0.002446   \n",
       "2010-02-03       0.0 -0.007709 -0.002183       NaN       NaN -0.002997   \n",
       "2010-02-04       0.0 -0.038844 -0.054097       NaN       NaN -0.001093   \n",
       "2010-02-05       0.0 -0.011399 -0.008411       NaN       NaN -0.020793   \n",
       "2010-02-08       0.0 -0.014675  0.007210       NaN       NaN  0.002235   \n",
       "\n",
       "            WEGE3.SA  YDUQ3.SA  \n",
       "Date                            \n",
       "2010-02-02 -0.012141 -0.017241  \n",
       "2010-02-03  0.014525  0.000000  \n",
       "2010-02-04 -0.008810 -0.083333  \n",
       "2010-02-05 -0.044444  0.004306  \n",
       "2010-02-08  0.032558 -0.030491  \n",
       "\n",
       "[5 rows x 86 columns]"
      ]
     },
     "execution_count": 3,
     "metadata": {},
     "output_type": "execute_result"
    }
   ],
   "source": [
    "df_rtn = df.pct_change().dropna(how='all')\n",
    "df_rtn.head()"
   ]
  },
  {
   "cell_type": "markdown",
   "metadata": {},
   "source": [
    "### Mean reversion and momentum via Fama-Macbeth - Sharpe ratio and profit per trade"
   ]
  },
  {
   "cell_type": "code",
   "execution_count": 4,
   "metadata": {},
   "outputs": [],
   "source": [
    "# mean reversion signal based on r(t-5) + ... + r(t-1)\n",
    "mr_sig_raw = -df_rtn.shift(1).rolling(5).sum().dropna(how='all')\n",
    "# momentum signal based on r(t-252) + ... + r(t-22)\n",
    "mom_sig_raw = df_rtn.shift(22).rolling(231).sum().dropna(how='all')"
   ]
  },
  {
   "cell_type": "code",
   "execution_count": 5,
   "metadata": {},
   "outputs": [],
   "source": [
    "# This function normalizes panel cross-sections to have mean 0, variance 1.\n",
    "def normalize(panel_data):\n",
    "    return panel_data.sub(panel_data.mean(axis=1), axis=0).div(panel_data.std(axis=1),axis=0)"
   ]
  },
  {
   "cell_type": "code",
   "execution_count": 6,
   "metadata": {},
   "outputs": [],
   "source": [
    "mr_sig_norm = normalize(mr_sig_raw)\n",
    "mom_sig_norm = normalize(mom_sig_raw)"
   ]
  },
  {
   "cell_type": "code",
   "execution_count": 7,
   "metadata": {},
   "outputs": [],
   "source": [
    "# This function takes a panel of positions and returns a time series of returns (in $).\n",
    "def returns_from_positions(position_data, df_rtn):\n",
    "    return (position_data * df_rtn).dropna(how='all').sum(axis=1)"
   ]
  },
  {
   "cell_type": "code",
   "execution_count": 8,
   "metadata": {},
   "outputs": [],
   "source": [
    "# The Fama-Macbeth approach is equivalent to positions that are proportional to factors (signals).\n",
    "# Also, we only want returns from beginning of 2014, so that we can compare momentum and\n",
    "# mean reversion returns over the same time periods.\n",
    "mr_rtn = returns_from_positions(mr_sig_norm, df_rtn)['2012-01-02':]\n",
    "mom_rtn = returns_from_positions(mom_sig_norm, df_rtn)['2012-01-02':]"
   ]
  },
  {
   "cell_type": "code",
   "execution_count": 9,
   "metadata": {},
   "outputs": [],
   "source": [
    "# This function takes a time series of daily returns & returns an annualized Sharpe ratio.\n",
    "def sharpe_ratio(daily_return_series):\n",
    "    return round(daily_return_series.mean() / daily_return_series.std() * 252**0.5, 2)"
   ]
  },
  {
   "cell_type": "code",
   "execution_count": 10,
   "metadata": {},
   "outputs": [
    {
     "data": {
      "text/plain": [
       "(0.61, 0.62)"
      ]
     },
     "execution_count": 10,
     "metadata": {},
     "output_type": "execute_result"
    }
   ],
   "source": [
    "sharpe_ratio(mr_rtn), sharpe_ratio(mom_rtn)"
   ]
  },
  {
   "cell_type": "code",
   "execution_count": 11,
   "metadata": {},
   "outputs": [
    {
     "data": {
      "text/html": [
       "<div>\n",
       "<style scoped>\n",
       "    .dataframe tbody tr th:only-of-type {\n",
       "        vertical-align: middle;\n",
       "    }\n",
       "\n",
       "    .dataframe tbody tr th {\n",
       "        vertical-align: top;\n",
       "    }\n",
       "\n",
       "    .dataframe thead th {\n",
       "        text-align: right;\n",
       "    }\n",
       "</style>\n",
       "<table border=\"1\" class=\"dataframe\">\n",
       "  <thead>\n",
       "    <tr style=\"text-align: right;\">\n",
       "      <th></th>\n",
       "      <th>mr</th>\n",
       "      <th>mom</th>\n",
       "    </tr>\n",
       "  </thead>\n",
       "  <tbody>\n",
       "    <tr>\n",
       "      <th>mr</th>\n",
       "      <td>1.000000</td>\n",
       "      <td>0.033891</td>\n",
       "    </tr>\n",
       "    <tr>\n",
       "      <th>mom</th>\n",
       "      <td>0.033891</td>\n",
       "      <td>1.000000</td>\n",
       "    </tr>\n",
       "  </tbody>\n",
       "</table>\n",
       "</div>"
      ],
      "text/plain": [
       "           mr       mom\n",
       "mr   1.000000  0.033891\n",
       "mom  0.033891  1.000000"
      ]
     },
     "execution_count": 11,
     "metadata": {},
     "output_type": "execute_result"
    }
   ],
   "source": [
    "# Create a dataframe of factor returns and find its correlation matrix.\n",
    "df_factors = pd.concat([mr_rtn, mom_rtn], axis=1, keys=[\"mr\",\"mom\"])\n",
    "df_factors.corr()"
   ]
  },
  {
   "cell_type": "code",
   "execution_count": 12,
   "metadata": {},
   "outputs": [
    {
     "data": {
      "text/plain": [
       "0.86"
      ]
     },
     "execution_count": 12,
     "metadata": {},
     "output_type": "execute_result"
    }
   ],
   "source": [
    "# Form a portfolio with 50% momentum strategy and 50% mean reversion strategy.\n",
    "both_rtn = 0.5*mom_rtn + 0.5*mr_rtn\n",
    "sharpe_ratio(both_rtn)"
   ]
  },
  {
   "cell_type": "code",
   "execution_count": 13,
   "metadata": {},
   "outputs": [
    {
     "data": {
      "text/plain": [
       "<AxesSubplot:xlabel='Date'>"
      ]
     },
     "execution_count": 13,
     "metadata": {},
     "output_type": "execute_result"
    },
    {
     "data": {
      "image/png": "[encoded data removed]",
      "text/plain": [
       "<Figure size 1152x432 with 1 Axes>"
      ]
     },
     "metadata": {
      "needs_background": "light"
     },
     "output_type": "display_data"
    }
   ],
   "source": [
    "# Normalize the plot so every return has same annual volatility (15%).\n",
    "plt.figure()\n",
    "(mr_rtn.cumsum() / mr_rtn.std() * (0.15/252**0.5)).plot()\n",
    "(mom_rtn.cumsum() / mom_rtn.std() * (0.15/252**0.5)).plot()\n",
    "(both_rtn.cumsum() / both_rtn.std() * (0.15/252**0.5)).plot()"
   ]
  },
  {
   "cell_type": "code",
   "execution_count": 14,
   "metadata": {},
   "outputs": [],
   "source": [
    "# This function takes a panel of positions and returns profit per trade (i.e. per $1 traded)\n",
    "def profit_per_trade(position_data, df_rtn):\n",
    "    total_profit = (position_data * df_rtn).dropna(how='all').sum(axis=1).sum()\n",
    "    total_traded = abs(position_data - (position_data*(1+df_rtn)).shift()).sum(axis=1).sum()\n",
    "    return round(total_profit / total_traded, 4)"
   ]
  },
  {
   "cell_type": "code",
   "execution_count": 15,
   "metadata": {},
   "outputs": [
    {
     "data": {
      "text/plain": [
       "0.0031"
      ]
     },
     "execution_count": 15,
     "metadata": {},
     "output_type": "execute_result"
    }
   ],
   "source": [
    "# Momentum profit per trade\n",
    "profit_per_trade(mom_sig_norm[\"2014-01-02\":], df_rtn[\"2014-01-02\":])"
   ]
  },
  {
   "cell_type": "code",
   "execution_count": 16,
   "metadata": {},
   "outputs": [
    {
     "data": {
      "text/plain": [
       "0.0004"
      ]
     },
     "execution_count": 16,
     "metadata": {},
     "output_type": "execute_result"
    }
   ],
   "source": [
    "# Mean reversion profit per trade\n",
    "profit_per_trade(mr_sig_norm[\"2014-01-02\":], df_rtn[\"2014-01-02\":])"
   ]
  },
  {
   "cell_type": "markdown",
   "metadata": {},
   "source": [
    "### Winsorized positions\n",
    "\"Winsorization\" means limiting the extreme values of a distribution.  We can use this to make our trading strategy more robust.  The financial interpretation is that we are imposing a position limit."
   ]
  },
  {
   "cell_type": "code",
   "execution_count": 17,
   "metadata": {},
   "outputs": [],
   "source": [
    "# This \"winsorizes\" the normalized signals, i.e. capping their absolute values.\n",
    "cap = 0.5\n",
    "mom_winsor_position = np.minimum(np.maximum(mom_sig_norm, -cap), cap)\n",
    "mr_winsor_position = np.minimum(np.maximum(mr_sig_norm, -cap), cap)"
   ]
  },
  {
   "cell_type": "code",
   "execution_count": 18,
   "metadata": {},
   "outputs": [],
   "source": [
    "mom_rtn = returns_from_positions(mom_winsor_position, df_rtn)['2012-01-02':]\n",
    "mr_rtn  = returns_from_positions(mr_winsor_position,  df_rtn)['2012-01-02':]\n",
    "both_rtn = 0.5*mom_rtn + 0.5*mr_rtn"
   ]
  },
  {
   "cell_type": "code",
   "execution_count": 19,
   "metadata": {},
   "outputs": [
    {
     "data": {
      "text/plain": [
       "(0.57, 0.78, 0.95)"
      ]
     },
     "execution_count": 19,
     "metadata": {},
     "output_type": "execute_result"
    }
   ],
   "source": [
    "sharpe_ratio(mom_rtn), sharpe_ratio(mr_rtn), sharpe_ratio(both_rtn)"
   ]
  },
  {
   "cell_type": "code",
   "execution_count": 20,
   "metadata": {},
   "outputs": [
    {
     "data": {
      "text/plain": [
       "0.0019"
      ]
     },
     "execution_count": 20,
     "metadata": {},
     "output_type": "execute_result"
    }
   ],
   "source": [
    "# Momentum profit per trade for winsorized positions\n",
    "profit_per_trade(mom_winsor_position['2014-01-02':], df_rtn['2012-01-02':])"
   ]
  },
  {
   "cell_type": "code",
   "execution_count": 21,
   "metadata": {},
   "outputs": [
    {
     "data": {
      "text/plain": [
       "0.0004"
      ]
     },
     "execution_count": 21,
     "metadata": {},
     "output_type": "execute_result"
    }
   ],
   "source": [
    "# Mean reversion profit per trade for winsorized positions\n",
    "profit_per_trade(mr_winsor_position['2014-01-02':], df_rtn['2012-01-02':])"
   ]
  },
  {
   "cell_type": "markdown",
   "metadata": {},
   "source": [
    "### Mean reversion and momentum via ranked portfolios\n",
    "Here we take positions of +1, -1 or 0 based on the cross-sectional ranks of the signals.  This is an alternative to winsorization which also tends to make our strategy more robust"
   ]
  },
  {
   "cell_type": "code",
   "execution_count": 22,
   "metadata": {},
   "outputs": [],
   "source": [
    "# This function ranks panel cross-sections, and returns +1 if in the highest\n",
    "# alpha-quantile, -1 if in the lowest alpha-quantile, and 0 otherwise.\n",
    "def rank_bin(panel_data, alpha):\n",
    "    if alpha <=0 or alpha>=0.5:\n",
    "        raise ValueError(\"Alpha should be greater than 0- and less than 0.5\")\n",
    "    return panel_data.apply(pd.qcut, axis=1, args=([0, alpha, 1-alpha, 1.],), labels=[-1,0,1]).astype(\"float64\")"
   ]
  },
  {
   "cell_type": "code",
   "execution_count": 23,
   "metadata": {},
   "outputs": [],
   "source": [
    "# Go long $1 for the top 40%, short $1 for the bottom 40%, and flat for the middle 20%.\n",
    "mom_ranked_position = rank_bin(mom_sig_raw, 0.4)\n",
    "mr_ranked_position = rank_bin(mr_sig_raw, 0.4)"
   ]
  },
  {
   "cell_type": "code",
   "execution_count": 24,
   "metadata": {},
   "outputs": [],
   "source": [
    "# I only want returns from beginning of 2014.\n",
    "mom_rtn = returns_from_positions(mom_ranked_position, df_rtn)['2012-01-02':]\n",
    "mr_rtn  = returns_from_positions(mr_ranked_position,  df_rtn)['2012-01-02':]\n",
    "both_rtn = 0.5*mom_rtn + 0.5*mr_rtn"
   ]
  },
  {
   "cell_type": "code",
   "execution_count": 25,
   "metadata": {},
   "outputs": [
    {
     "data": {
      "text/plain": [
       "(0.54, 0.78, 0.91)"
      ]
     },
     "execution_count": 25,
     "metadata": {},
     "output_type": "execute_result"
    }
   ],
   "source": [
    "sharpe_ratio(mom_rtn), sharpe_ratio(mr_rtn), sharpe_ratio(both_rtn)"
   ]
  },
  {
   "cell_type": "code",
   "execution_count": 26,
   "metadata": {},
   "outputs": [
    {
     "data": {
      "text/plain": [
       "0.0019"
      ]
     },
     "execution_count": 26,
     "metadata": {},
     "output_type": "execute_result"
    }
   ],
   "source": [
    "# Momentum profit per trade for ranked positions\n",
    "profit_per_trade(mom_ranked_position['2012-01-02':], df_rtn['2012-01-02':])"
   ]
  },
  {
   "cell_type": "code",
   "execution_count": 27,
   "metadata": {},
   "outputs": [
    {
     "data": {
      "text/plain": [
       "0.0005"
      ]
     },
     "execution_count": 27,
     "metadata": {},
     "output_type": "execute_result"
    }
   ],
   "source": [
    "# Mean reversion profit per trade for winsorized positions\n",
    "profit_per_trade(mr_ranked_position['2012-01-02':], df_rtn['2012-01-02':])"
   ]
  },
  {
   "cell_type": "code",
   "execution_count": 28,
   "metadata": {},
   "outputs": [
    {
     "data": {
      "text/plain": [
       "<AxesSubplot:xlabel='Date'>"
      ]
     },
     "execution_count": 28,
     "metadata": {},
     "output_type": "execute_result"
    },
    {
     "data": {
      "image/png": "[encoded data removed]",
      "text/plain": [
       "<Figure size 1152x432 with 1 Axes>"
      ]
     },
     "metadata": {
      "needs_background": "light"
     },
     "output_type": "display_data"
    }
   ],
   "source": [
    "# Normalize the plot so every return has same annual volatility (15%).\n",
    "plt.figure()\n",
    "(mr_rtn.cumsum() / mr_rtn.std() * (0.15/252**0.5)).plot()\n",
    "(mom_rtn.cumsum() / mom_rtn.std() * (0.15/252**0.5)).plot()\n",
    "(both_rtn.cumsum() / both_rtn.std() * (0.15/252**0.5)).plot()"
   ]
  },
  {
   "cell_type": "code",
   "execution_count": null,
   "metadata": {},
   "outputs": [],
   "source": []
  },
  {
   "cell_type": "code",
   "execution_count": null,
   "metadata": {},
   "outputs": [],
   "source": []
  },
  {
   "cell_type": "code",
   "execution_count": null,
   "metadata": {},
   "outputs": [],
   "source": []
  }
 ],
 "metadata": {
  "kernelspec": {
   "display_name": "Python 3 (ipykernel)",
   "language": "python",
   "name": "python3"
  },
  "language_info": {
   "codemirror_mode": {
    "name": "ipython",
    "version": 3
   },
   "file_extension": ".py",
   "mimetype": "text/x-python",
   "name": "python",
   "nbconvert_exporter": "python",
   "pygments_lexer": "ipython3",
   "version": "3.9.7"
  }
 },
 "nbformat": 4,
 "nbformat_minor": 4
}
