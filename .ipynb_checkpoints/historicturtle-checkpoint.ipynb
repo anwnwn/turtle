{
 "cells": [
  {
   "cell_type": "code",
   "execution_count": 2,
   "id": "0111f091",
   "metadata": {},
   "outputs": [],
   "source": [
    "import pandas as pd\n",
    "import numpy as np"
   ]
  },
  {
   "cell_type": "code",
   "execution_count": 112,
   "id": "7fc3d1fe",
   "metadata": {},
   "outputs": [],
   "source": [
    "df = pd.read_csv('EZA.csv', parse_dates=['Date'])\n",
    "df.head()\n",
    "type(df['Date'][0])\n",
    "\n",
    "df2 =pd.read_csv('fake.csv', parse_dates=['Date'])\n",
    "#how are we getting every stock from msci (32) and updating it"
   ]
  },
  {
   "cell_type": "code",
   "execution_count": 76,
   "id": "11fcfda7",
   "metadata": {},
   "outputs": [],
   "source": [
    "# class Stock:\n",
    "#     def __init__(df, ticker):\n",
    "#         self.df = df\n",
    "#         self.ticker = ticker\n",
    "#     def getdf(self):\n",
    "#         return self.df\n",
    "#     def getname(self):\n",
    "#         return self.ticker"
   ]
  },
  {
   "cell_type": "code",
   "execution_count": 77,
   "id": "92bd6ed6",
   "metadata": {},
   "outputs": [
    {
     "name": "stdout",
     "output_type": "stream",
     "text": [
      "False\n"
     ]
    }
   ],
   "source": [
    "def isvalid_basicturtle(df, days):\n",
    "    if (len(df)>days): return False\n",
    "    tracking_period = df.iloc[-days:]\n",
    "    percentage = ((tracking_period['Close'] > tracking_period['Open']).sum() / days)\n",
    "    return percentage>=0.8\n",
    "#     return (tracking_period['Close']>tracking_period['Open']).all()\n",
    "\n",
    "# print(isvalid_basicturtle(df, 10))"
   ]
  },
  {
   "cell_type": "code",
   "execution_count": 95,
   "id": "c0cfa376",
   "metadata": {},
   "outputs": [],
   "source": [
    "def checkvalid(basket, days):\n",
    "    invalids = {}\n",
    "#     valid=True\n",
    "    for stock_ticker in basket:\n",
    "        stock_df = basket[stock_ticker]\n",
    "        if not isvalid_basicturtle(stock_df, days):\n",
    "#             valid=False\n",
    "            invalids[stock_ticker] = stock_df\n",
    "    return invalids"
   ]
  },
  {
   "cell_type": "code",
   "execution_count": 103,
   "id": "8fe62e81",
   "metadata": {},
   "outputs": [],
   "source": [
    "def getnewstock(days):\n",
    "    for stock_ticker, stock_df in universe.items():\n",
    "        if isvalid_basicturtle(stock_df, days):\n",
    "            return stock_ticker, stock_df\n",
    "    return None, None #add check"
   ]
  },
  {
   "cell_type": "code",
   "execution_count": 122,
   "id": "c4a506c4",
   "metadata": {},
   "outputs": [],
   "source": [
    "def updatebasket(invalids, basket, days):\n",
    "    for stock_ticker, _ in invalids.items():\n",
    "        print(stock_ticker)\n",
    "        replace = stock_ticker\n",
    "        del basket[replace]\n",
    "        del invalids[replace]\n",
    "        new_ticker, new_df = getnewstock(universe)\n",
    "        basket[new_ticker] = new_df"
   ]
  },
  {
   "cell_type": "code",
   "execution_count": 125,
   "id": "4604364b",
   "metadata": {},
   "outputs": [
    {
     "name": "stdout",
     "output_type": "stream",
     "text": [
      "{'eza':           Date       Open       High        Low      Close  Adj Close  Volume\n",
      "0   2023-03-01  42.270000  42.369999  41.950001  42.270000  41.033157  205000\n",
      "1   2023-03-02  41.320000  41.930000  41.270000  41.820000  40.596325  203500\n",
      "2   2023-03-03  41.939999  42.230000  41.700001  42.180000  40.945793  154200\n",
      "3   2023-03-06  41.959999  42.150002  41.820000  41.900002  40.673985   83900\n",
      "4   2023-03-07  41.360001  41.360001  40.590000  40.660000  39.470268  243300\n",
      "..         ...        ...        ...        ...        ...        ...     ...\n",
      "248 2024-02-26  37.619999  37.810001  37.560001  37.730000  37.730000  101400\n",
      "249 2024-02-27  37.779999  37.889999  37.680000  37.720001  37.720001   59700\n",
      "250 2024-02-28  37.160000  37.200001  36.709999  36.900002  36.900002  140000\n",
      "251 2024-02-29  37.349998  37.410000  37.009998  37.150002  37.150002  182600\n",
      "252 2024-03-01  37.619999  37.900002  37.389999  37.889999  37.889999  180805\n",
      "\n",
      "[253 rows x 7 columns]}\n",
      "eza\n"
     ]
    },
    {
     "ename": "TypeError",
     "evalue": "'>' not supported between instances of 'int' and 'dict'",
     "output_type": "error",
     "traceback": [
      "\u001b[1;31m---------------------------------------------------------------------------\u001b[0m",
      "\u001b[1;31mTypeError\u001b[0m                                 Traceback (most recent call last)",
      "\u001b[1;32m~\\AppData\\Local\\Temp/ipykernel_20324/2630328613.py\u001b[0m in \u001b[0;36m<module>\u001b[1;34m\u001b[0m\n\u001b[0;32m      9\u001b[0m \u001b[0minvalids\u001b[0m \u001b[1;33m=\u001b[0m \u001b[0mcheckvalid\u001b[0m\u001b[1;33m(\u001b[0m\u001b[0mbasket\u001b[0m\u001b[1;33m,\u001b[0m \u001b[0mdays\u001b[0m\u001b[1;33m)\u001b[0m\u001b[1;33m\u001b[0m\u001b[1;33m\u001b[0m\u001b[0m\n\u001b[0;32m     10\u001b[0m \u001b[0mprint\u001b[0m\u001b[1;33m(\u001b[0m\u001b[0minvalids\u001b[0m\u001b[1;33m)\u001b[0m\u001b[1;33m\u001b[0m\u001b[1;33m\u001b[0m\u001b[0m\n\u001b[1;32m---> 11\u001b[1;33m \u001b[0mupdatebasket\u001b[0m\u001b[1;33m(\u001b[0m\u001b[0minvalids\u001b[0m\u001b[1;33m,\u001b[0m \u001b[0mbasket\u001b[0m\u001b[1;33m,\u001b[0m \u001b[0mdays\u001b[0m\u001b[1;33m)\u001b[0m\u001b[1;33m\u001b[0m\u001b[1;33m\u001b[0m\u001b[0m\n\u001b[0m\u001b[0;32m     12\u001b[0m \u001b[1;33m\u001b[0m\u001b[0m\n\u001b[0;32m     13\u001b[0m \u001b[1;31m# if not (invalids == None, None):\u001b[0m\u001b[1;33m\u001b[0m\u001b[1;33m\u001b[0m\u001b[0m\n",
      "\u001b[1;32m~\\AppData\\Local\\Temp/ipykernel_20324/1953694122.py\u001b[0m in \u001b[0;36mupdatebasket\u001b[1;34m(invalids, basket, days)\u001b[0m\n\u001b[0;32m      5\u001b[0m         \u001b[1;32mdel\u001b[0m \u001b[0mbasket\u001b[0m\u001b[1;33m[\u001b[0m\u001b[0mreplace\u001b[0m\u001b[1;33m]\u001b[0m\u001b[1;33m\u001b[0m\u001b[1;33m\u001b[0m\u001b[0m\n\u001b[0;32m      6\u001b[0m         \u001b[1;32mdel\u001b[0m \u001b[0minvalids\u001b[0m\u001b[1;33m[\u001b[0m\u001b[0mreplace\u001b[0m\u001b[1;33m]\u001b[0m\u001b[1;33m\u001b[0m\u001b[1;33m\u001b[0m\u001b[0m\n\u001b[1;32m----> 7\u001b[1;33m         \u001b[0mnew_ticker\u001b[0m\u001b[1;33m,\u001b[0m \u001b[0mnew_df\u001b[0m \u001b[1;33m=\u001b[0m \u001b[0mgetnewstock\u001b[0m\u001b[1;33m(\u001b[0m\u001b[0muniverse\u001b[0m\u001b[1;33m)\u001b[0m\u001b[1;33m\u001b[0m\u001b[1;33m\u001b[0m\u001b[0m\n\u001b[0m\u001b[0;32m      8\u001b[0m         \u001b[0mbasket\u001b[0m\u001b[1;33m[\u001b[0m\u001b[0mnew_ticker\u001b[0m\u001b[1;33m]\u001b[0m \u001b[1;33m=\u001b[0m \u001b[0mnew_df\u001b[0m\u001b[1;33m\u001b[0m\u001b[1;33m\u001b[0m\u001b[0m\n",
      "\u001b[1;32m~\\AppData\\Local\\Temp/ipykernel_20324/297137189.py\u001b[0m in \u001b[0;36mgetnewstock\u001b[1;34m(days)\u001b[0m\n\u001b[0;32m      1\u001b[0m \u001b[1;32mdef\u001b[0m \u001b[0mgetnewstock\u001b[0m\u001b[1;33m(\u001b[0m\u001b[0mdays\u001b[0m\u001b[1;33m)\u001b[0m\u001b[1;33m:\u001b[0m\u001b[1;33m\u001b[0m\u001b[1;33m\u001b[0m\u001b[0m\n\u001b[0;32m      2\u001b[0m     \u001b[1;32mfor\u001b[0m \u001b[0mstock_ticker\u001b[0m\u001b[1;33m,\u001b[0m \u001b[0mstock_df\u001b[0m \u001b[1;32min\u001b[0m \u001b[0muniverse\u001b[0m\u001b[1;33m.\u001b[0m\u001b[0mitems\u001b[0m\u001b[1;33m(\u001b[0m\u001b[1;33m)\u001b[0m\u001b[1;33m:\u001b[0m\u001b[1;33m\u001b[0m\u001b[1;33m\u001b[0m\u001b[0m\n\u001b[1;32m----> 3\u001b[1;33m         \u001b[1;32mif\u001b[0m \u001b[0misvalid_basicturtle\u001b[0m\u001b[1;33m(\u001b[0m\u001b[0mstock_df\u001b[0m\u001b[1;33m,\u001b[0m \u001b[0mdays\u001b[0m\u001b[1;33m)\u001b[0m\u001b[1;33m:\u001b[0m\u001b[1;33m\u001b[0m\u001b[1;33m\u001b[0m\u001b[0m\n\u001b[0m\u001b[0;32m      4\u001b[0m             \u001b[1;32mreturn\u001b[0m \u001b[0mstock_ticker\u001b[0m\u001b[1;33m,\u001b[0m \u001b[0mstock_df\u001b[0m\u001b[1;33m\u001b[0m\u001b[1;33m\u001b[0m\u001b[0m\n\u001b[0;32m      5\u001b[0m     \u001b[1;32mreturn\u001b[0m \u001b[1;32mNone\u001b[0m\u001b[1;33m,\u001b[0m \u001b[1;32mNone\u001b[0m \u001b[1;31m#add check\u001b[0m\u001b[1;33m\u001b[0m\u001b[1;33m\u001b[0m\u001b[0m\n",
      "\u001b[1;32m~\\AppData\\Local\\Temp/ipykernel_20324/1935498723.py\u001b[0m in \u001b[0;36misvalid_basicturtle\u001b[1;34m(df, days)\u001b[0m\n\u001b[0;32m      1\u001b[0m \u001b[1;32mdef\u001b[0m \u001b[0misvalid_basicturtle\u001b[0m\u001b[1;33m(\u001b[0m\u001b[0mdf\u001b[0m\u001b[1;33m,\u001b[0m \u001b[0mdays\u001b[0m\u001b[1;33m)\u001b[0m\u001b[1;33m:\u001b[0m\u001b[1;33m\u001b[0m\u001b[1;33m\u001b[0m\u001b[0m\n\u001b[1;32m----> 2\u001b[1;33m     \u001b[1;32mif\u001b[0m \u001b[1;33m(\u001b[0m\u001b[0mlen\u001b[0m\u001b[1;33m(\u001b[0m\u001b[0mdf\u001b[0m\u001b[1;33m)\u001b[0m\u001b[1;33m>\u001b[0m\u001b[0mdays\u001b[0m\u001b[1;33m)\u001b[0m\u001b[1;33m:\u001b[0m \u001b[1;32mreturn\u001b[0m \u001b[1;32mFalse\u001b[0m\u001b[1;33m\u001b[0m\u001b[1;33m\u001b[0m\u001b[0m\n\u001b[0m\u001b[0;32m      3\u001b[0m     \u001b[0mtracking_period\u001b[0m \u001b[1;33m=\u001b[0m \u001b[0mdf\u001b[0m\u001b[1;33m.\u001b[0m\u001b[0miloc\u001b[0m\u001b[1;33m[\u001b[0m\u001b[1;33m-\u001b[0m\u001b[0mdays\u001b[0m\u001b[1;33m:\u001b[0m\u001b[1;33m]\u001b[0m\u001b[1;33m\u001b[0m\u001b[1;33m\u001b[0m\u001b[0m\n\u001b[0;32m      4\u001b[0m     \u001b[0mpercentage\u001b[0m \u001b[1;33m=\u001b[0m \u001b[1;33m(\u001b[0m\u001b[1;33m(\u001b[0m\u001b[0mtracking_period\u001b[0m\u001b[1;33m[\u001b[0m\u001b[1;34m'Close'\u001b[0m\u001b[1;33m]\u001b[0m \u001b[1;33m>\u001b[0m \u001b[0mtracking_period\u001b[0m\u001b[1;33m[\u001b[0m\u001b[1;34m'Open'\u001b[0m\u001b[1;33m]\u001b[0m\u001b[1;33m)\u001b[0m\u001b[1;33m.\u001b[0m\u001b[0msum\u001b[0m\u001b[1;33m(\u001b[0m\u001b[1;33m)\u001b[0m \u001b[1;33m/\u001b[0m \u001b[0mdays\u001b[0m\u001b[1;33m)\u001b[0m\u001b[1;33m\u001b[0m\u001b[1;33m\u001b[0m\u001b[0m\n\u001b[0;32m      5\u001b[0m     \u001b[1;32mreturn\u001b[0m \u001b[0mpercentage\u001b[0m\u001b[1;33m>=\u001b[0m\u001b[1;36m0.8\u001b[0m\u001b[1;33m\u001b[0m\u001b[1;33m\u001b[0m\u001b[0m\n",
      "\u001b[1;31mTypeError\u001b[0m: '>' not supported between instances of 'int' and 'dict'"
     ]
    }
   ],
   "source": [
    "#global\n",
    "universe = {\"eza\": df, \"no2\":df2}\n",
    "days=10\n",
    "\n",
    "\n",
    "basket = {\"eza\": df}\n",
    "\n",
    "#at day end\n",
    "invalids = checkvalid(basket, days)\n",
    "print(invalids)\n",
    "updatebasket(invalids, basket, days)\n",
    "\n",
    "# if not (invalids == None, None):\n",
    "#     updatebasket(invalids, basket, days)\n",
    "#     print(\"no candidates\")"
   ]
  },
  {
   "cell_type": "code",
   "execution_count": null,
   "id": "c8db80c6",
   "metadata": {},
   "outputs": [],
   "source": []
  },
  {
   "cell_type": "code",
   "execution_count": 108,
   "id": "1a8545d6",
   "metadata": {},
   "outputs": [],
   "source": [
    "#load\n",
    "\n",
    "\n",
    "\n",
    "\n",
    "\n",
    "\n",
    "\n",
    "\n",
    "\n",
    "\n",
    "\n",
    "\n",
    "\n",
    "# #tielong\n",
    "\n",
    "# #initialize basket\n",
    "\n",
    "# class State:\n",
    "#     def init:\n",
    "#         pass\n",
    "        \n",
    "        \n",
    "        \n",
    "\n",
    "    \n",
    "\n",
    "# def turtle(state):\n",
    "#     for stock in state.basket:\n",
    "#         if (update(stock)):\n",
    "#             state.basket[stock]=choose()\n",
    "#             print(\"replace\")\n",
    "#         else:\n",
    "#             print(stock[name] +\" is still good\")\n",
    "\n",
    "\n",
    "\n",
    "# #update criteria\n",
    "# def update(stock):\n",
    "#     if(stock[last]<0):\n",
    "#         return true #replace\n",
    "#     return false # no need to replace\n",
    "\n",
    "# #replacement criteria\n",
    "# def choose():\n",
    "#     potential={}\n",
    "#     best = potential[1]\n",
    "#     return best"
   ]
  }
 ],
 "metadata": {
  "kernelspec": {
   "display_name": "Python 3 (ipykernel)",
   "language": "python",
   "name": "python3"
  },
  "language_info": {
   "codemirror_mode": {
    "name": "ipython",
    "version": 3
   },
   "file_extension": ".py",
   "mimetype": "text/x-python",
   "name": "python",
   "nbconvert_exporter": "python",
   "pygments_lexer": "ipython3",
   "version": "3.9.7"
  }
 },
 "nbformat": 4,
 "nbformat_minor": 5
}
