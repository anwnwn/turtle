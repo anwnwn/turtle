{
 "cells": [
  {
   "cell_type": "markdown",
   "metadata": {},
   "source": [
    "**Ameya Dehade**"
   ]
  },
  {
   "cell_type": "code",
   "execution_count": 49,
   "metadata": {
    "jupyter": {
     "outputs_hidden": true
    },
    "scrolled": true
   },
   "outputs": [],
   "source": [
    "import pandas as pd\n",
    "import yfinance\n",
    "from datetime import datetime\n",
    "\n",
    "df = pd.read_csv('Mexico Constituents.csv')\n",
    "tickers = df['Code'].values\n",
    "START_DATE = '2010-02-01'\n",
    "TRUNCATE_DATE = '2020-02-01'\n",
    "END_DATE = '2024-02-01'"
   ]
  },
  {
   "cell_type": "code",
   "execution_count": 50,
   "metadata": {
    "jupyter": {
     "outputs_hidden": true
    }
   },
   "outputs": [],
   "source": [
    "# Use the datetime function to assign the date Feb 1, 2010 to a datetime object called \"startDate\".\n",
    "startDate = datetime.fromisoformat(START_DATE)"
   ]
  },
  {
   "cell_type": "code",
   "execution_count": 51,
   "metadata": {
    "jupyter": {
     "outputs_hidden": true
    }
   },
   "outputs": [],
   "source": [
    "# Use the datetime function to assign the date Feb 1, 2024 to a datetime object called \"endDate\".\n",
    "endDate = datetime.fromisoformat(END_DATE)"
   ]
  },
  {
   "cell_type": "code",
   "execution_count": 52,
   "metadata": {
    "jupyter": {
     "outputs_hidden": true
    }
   },
   "outputs": [
    {
     "name": "stdout",
     "output_type": "stream",
     "text": [
      "['MEGACPO.MX', 'CUERVO.MX', 'ALSEA.MX', 'ALPEKA.MX', 'FEMSAUBD.MX', 'BOLSAA.MX', 'BBAJIOO.MX', 'PINFRA.MX', 'KIMBERA.MX', 'GENTERA.MX', 'GMEXICOB.MX', 'OMAB.MX', 'LABB.MX', 'GCARSOA1.MX', 'GRUMAB.MX', 'AC.MX', 'ASURB.MX', 'CEMEXCPO.MX', 'BIMBOA.MX', 'GAPB.MX', 'TLEVISACPO.MX', 'GCC.MX', 'GFNORTEO.MX']\n"
     ]
    }
   ],
   "source": [
    "# Format the list of symbols properly\n",
    "# end = len(tickers) - 2\n",
    "mySymbols = [s for s in tickers]\n",
    "print(mySymbols)"
   ]
  },
  {
   "cell_type": "code",
   "execution_count": 53,
   "metadata": {
    "jupyter": {
     "outputs_hidden": true
    }
   },
   "outputs": [
    {
     "name": "stderr",
     "output_type": "stream",
     "text": [
      "[*********************100%%**********************]  23 of 23 completed\n"
     ]
    },
    {
     "name": "stdout",
     "output_type": "stream",
     "text": [
      "<class 'pandas.core.frame.DataFrame'>\n",
      "(3515, 138)\n",
      "<class 'pandas.core.frame.DataFrame'>\n",
      "(3515, 23)\n",
      "Ticker           AC.MX  ALPEKA.MX   ALSEA.MX    ASURB.MX  BBAJIOO.MX  \\\n",
      "Date                                                                   \n",
      "2010-02-02   23.852686        NaN   8.889217   45.443237         NaN   \n",
      "2010-02-03   23.892506        NaN   9.170577   44.786438         NaN   \n",
      "2010-02-04   23.807169        NaN   9.029898   43.611126         NaN   \n",
      "2010-02-05   23.096090        NaN   8.854048   43.168655         NaN   \n",
      "2010-02-08   23.323635        NaN   8.827671   43.410629         NaN   \n",
      "...                ...        ...        ...         ...         ...   \n",
      "2024-01-25  179.381927      11.12  64.959999  490.079987   63.849998   \n",
      "2024-01-26  182.815216      11.65  66.769997  502.730011   64.550003   \n",
      "2024-01-29  185.847473      11.82  68.000000  505.589996   64.440002   \n",
      "2024-01-30  187.422287      11.78  67.389999  501.179993   65.129997   \n",
      "2024-01-31  191.403320      11.53  67.529999  500.989990   65.690002   \n",
      "\n",
      "Ticker      BIMBOA.MX  BOLSAA.MX  CEMEXCPO.MX  CUERVO.MX  FEMSAUBD.MX  ...  \\\n",
      "Date                                                                   ...   \n",
      "2010-02-02  18.814520   8.735090     8.753445        NaN    41.400303  ...   \n",
      "2010-02-03  19.541042   8.962319     8.774812        NaN    41.445412  ...   \n",
      "2010-02-04  19.322428   8.740376     8.418692        NaN    40.234837  ...   \n",
      "2010-02-05  19.322428   8.735090     8.803301        NaN    40.520573  ...   \n",
      "2010-02-08  19.212013   8.692817     8.967116        NaN    40.798767  ...   \n",
      "...               ...        ...          ...        ...          ...  ...   \n",
      "2024-01-25  76.940002  33.720001    13.980000  32.230000   219.607788  ...   \n",
      "2024-01-26  79.040001  34.330002    14.140000  33.090000   220.304932  ...   \n",
      "2024-01-29  79.540001  35.220001    14.320000  33.500000   221.068008  ...   \n",
      "2024-01-30  77.589996  34.520000    14.350000  32.200001   222.160828  ...   \n",
      "2024-01-31  78.260002  34.980000    14.270000  32.060001   219.570114  ...   \n",
      "\n",
      "Ticker      GENTERA.MX  GFNORTEO.MX  GMEXICOB.MX   GRUMAB.MX  KIMBERA.MX  \\\n",
      "Date                                                                       \n",
      "2010-02-02         NaN    29.929316    16.618797   21.287224    9.913146   \n",
      "2010-02-03         NaN    30.548452    16.372942   21.777166   10.022537   \n",
      "2010-02-04         NaN    29.988598    15.828538   20.873301    9.933660   \n",
      "2010-02-05         NaN    30.528694    15.705617   21.287224    9.831111   \n",
      "2010-02-08         NaN    29.876631    16.050982   21.033802    9.913146   \n",
      "...                ...          ...          ...         ...         ...   \n",
      "2024-01-25   22.370001   170.320007    86.660904  304.369995   35.987469   \n",
      "2024-01-26   22.950001   170.869995    87.344208  310.649994   36.634865   \n",
      "2024-01-29   22.330000   171.160004    88.710823  313.660004   36.711029   \n",
      "2024-01-30   22.969999   175.779999    87.849258  317.730011   37.025204   \n",
      "2024-01-31   23.370001   175.009995    87.859161  322.000000   37.206097   \n",
      "\n",
      "Ticker        LABB.MX  MEGACPO.MX     OMAB.MX   PINFRA.MX  TLEVISACPO.MX  \n",
      "Date                                                                      \n",
      "2010-02-02  13.107310   18.467747   10.362962   21.881668      47.946152  \n",
      "2010-02-03  13.383696   18.269470   10.230820   22.039091      47.284950  \n",
      "2010-02-04  13.111500   17.497623   10.012281   21.999739      45.769703  \n",
      "2010-02-05  13.065435   17.490541   10.078350   21.802959      45.549305  \n",
      "2010-02-08  13.316693   18.269470   10.312139   21.637665      44.603413  \n",
      "...               ...         ...         ...         ...            ...  \n",
      "2024-01-25  13.783032   47.279999  156.529999  168.869995      10.100000  \n",
      "2024-01-26  14.201880   46.779999  159.610001  169.789993      10.930000  \n",
      "2024-01-29  13.783032   44.580002  158.649994  170.000000      11.010000  \n",
      "2024-01-30  13.763551   44.450001  159.729996  169.600006      10.800000  \n",
      "2024-01-31  13.724588   44.000000  157.309998  169.399994      10.350000  \n",
      "\n",
      "[3515 rows x 23 columns]\n"
     ]
    }
   ],
   "source": [
    "yahooDataFrame = yfinance.download(mySymbols, startDate, endDate)\n",
    "print(type(yahooDataFrame))\n",
    "print(yahooDataFrame.shape)\n",
    "# Select the columns of adjusted close prices and assign it to \"priceTable\".\n",
    "priceTable = yahooDataFrame['Adj Close']\n",
    "print(type(priceTable))\n",
    "print(priceTable.shape)\n",
    "priceTable.to_csv('priceTable-Mexico.csv')\n",
    "# Expected shape should be (3476, 86) if data is collected from 2010-2024.\n",
    "print(priceTable)"
   ]
  },
  {
   "cell_type": "code",
   "execution_count": 54,
   "metadata": {
    "jupyter": {
     "outputs_hidden": true
    },
    "scrolled": true
   },
   "outputs": [
    {
     "name": "stderr",
     "output_type": "stream",
     "text": [
      "[*********************100%%**********************]  1 of 1 completed\n",
      "[*********************100%%**********************]  1 of 1 completed\n",
      "[*********************100%%**********************]  1 of 1 completed\n",
      "[*********************100%%**********************]  1 of 1 completed\n",
      "[*********************100%%**********************]  1 of 1 completed\n",
      "[*********************100%%**********************]  1 of 1 completed\n",
      "[*********************100%%**********************]  1 of 1 completed\n",
      "[*********************100%%**********************]  1 of 1 completed\n",
      "[*********************100%%**********************]  1 of 1 completed\n",
      "[*********************100%%**********************]  1 of 1 completed\n",
      "[*********************100%%**********************]  1 of 1 completed\n",
      "[*********************100%%**********************]  1 of 1 completed\n",
      "[*********************100%%**********************]  1 of 1 completed\n",
      "[*********************100%%**********************]  1 of 1 completed\n",
      "[*********************100%%**********************]  1 of 1 completed\n",
      "[*********************100%%**********************]  1 of 1 completed\n",
      "[*********************100%%**********************]  1 of 1 completed\n",
      "[*********************100%%**********************]  1 of 1 completed\n",
      "[*********************100%%**********************]  1 of 1 completed\n",
      "[*********************100%%**********************]  1 of 1 completed\n",
      "[*********************100%%**********************]  1 of 1 completed\n",
      "[*********************100%%**********************]  1 of 1 completed\n",
      "[*********************100%%**********************]  1 of 1 completed\n"
     ]
    }
   ],
   "source": [
    "from pandas_datareader import data as pdr \n",
    "\n",
    "yfinance.pdr_override() \n",
    "daterange = pd.date_range(start=START_DATE, end=END_DATE, freq='D')\n",
    "totalret = pd.DataFrame(index=daterange) \n",
    "\n",
    "for stock_ticker in mySymbols:\n",
    "    totalret = pdr.get_data_yahoo(stock_ticker, start=START_DATE, end=END_DATE)\n",
    "    totalret.to_csv(stock_ticker + '_price_table_mexico.csv')"
   ]
  },
  {
   "cell_type": "code",
   "execution_count": null,
   "metadata": {},
   "outputs": [],
   "source": []
  }
 ],
 "metadata": {
  "kernelspec": {
   "display_name": "Python 3 (ipykernel)",
   "language": "python",
   "name": "python3"
  },
  "language_info": {
   "codemirror_mode": {
    "name": "ipython",
    "version": 3
   },
   "file_extension": ".py",
   "mimetype": "text/x-python",
   "name": "python",
   "nbconvert_exporter": "python",
   "pygments_lexer": "ipython3",
   "version": "3.11.4"
  }
 },
 "nbformat": 4,
 "nbformat_minor": 4
}
