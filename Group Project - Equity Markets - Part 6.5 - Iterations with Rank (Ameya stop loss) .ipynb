{
 "cells": [
  {
   "cell_type": "markdown",
   "metadata": {},
   "source": [
    "**Ameya Dehade**"
   ]
  },
  {
   "cell_type": "code",
   "execution_count": 5,
   "metadata": {
    "jupyter": {
     "outputs_hidden": true
    },
    "scrolled": true
   },
   "outputs": [],
   "source": [
    "date_iterations = [\n",
    "        \n",
    "    # Entire Period\n",
    "    ('2010-02-01', '2024-02-01'),\n",
    "    \n",
    "    # 2 year periods\n",
    "    ('2022-02-01', '2024-02-01'),\n",
    "    ('2020-02-01', '2022-02-01'),\n",
    "    ('2018-02-01', '2020-02-01'),\n",
    "    ('2016-02-01', '2018-02-01'),\n",
    "    ('2014-02-01', '2016-02-01'),\n",
    "    ('2012-02-01', '2014-02-01'),\n",
    "    ('2010-02-01', '2012-02-01'),\n",
    "    \n",
    "    # 3 year periods\n",
    "    ('2021-02-01', '2024-02-01'),\n",
    "    ('2018-02-01', '2021-02-01'),\n",
    "    ('2015-02-01', '2018-02-01'),\n",
    "    ('2012-02-01', '2015-02-01'),\n",
    "    ('2010-02-01', '2013-02-01'),\n",
    "    \n",
    "    # 4 year periods\n",
    "    ('2020-02-01', '2024-02-01'),\n",
    "    ('2016-02-01', '2020-02-01'),\n",
    "    ('2012-02-01', '2016-02-01'),\n",
    "    ('2010-02-01', '2014-02-01'),\n",
    "    \n",
    "    # 5 year periods\n",
    "    ('2019-02-01', '2024-02-01'),\n",
    "    ('2014-02-01', '2019-02-01'),\n",
    "    ('2010-02-01', '2015-02-01'),\n",
    "    \n",
    "    # 6 year periods\n",
    "    ('2018-02-01', '2024-02-01'),\n",
    "    ('2012-02-01', '2018-02-01'),\n",
    "    ('2010-02-01', '2016-02-01'),\n",
    "    \n",
    "    # 8 year periods\n",
    "    ('2016-02-01', '2024-02-01'),\n",
    "    ('2010-02-01', '2018-02-01'),\n",
    "]\n",
    "\n",
    "atr_period_iterations = [\n",
    "    7,\n",
    "    10,\n",
    "    14,\n",
    "    17,\n",
    "    28,\n",
    "    32, \n",
    "    35,\n",
    "    42,\n",
    "    49,\n",
    "    56,\n",
    "    63\n",
    "]\n",
    "\n",
    "X = [\n",
    "    1,\n",
    "    2,\n",
    "    3,\n",
    "    4,\n",
    "    5,\n",
    "    6,\n",
    "    7,\n",
    "    8\n",
    "]\n",
    "\n",
    "Y = X"
   ]
  },
  {
   "cell_type": "code",
   "execution_count": 6,
   "metadata": {
    "scrolled": true
   },
   "outputs": [],
   "source": [
    "import pandas as pd\n",
    "from datetime import datetime\n",
    "import matplotlib.pyplot as plt\n",
    "from pandas_datareader import data as pdr \n",
    "import numpy as np\n",
    "\n",
    "df = pd.read_csv('IBOVDia_03-04-24.csv')\n",
    "tickers = df['Code'].values\n",
    "end = len(tickers) - 2\n",
    "mySymbols = [s + '.SA' for s in tickers[:end]]\n",
    "\n",
    "# Overall time period\n",
    "START_DATE = '2010-02-01'\n",
    "TRUNCATE_DATE = '2011-02-01'\n",
    "END_DATE = '2024-02-01'\n",
    "\n",
    "priceTablesByTicker = {}\n",
    "\n",
    "priceTable = pd.read_csv('priceTable.csv', parse_dates=[0])\n",
    "priceTable.set_index(priceTable.columns[0], inplace=True)\n",
    "\n",
    "for ticker in mySymbols:\n",
    "    currTable = pd.read_csv(ticker + '_price_table.csv', parse_dates=[0])\n",
    "    currTable.set_index(currTable.columns[0], inplace=True)\n",
    "    priceTablesByTicker[ticker] = currTable"
   ]
  },
  {
   "cell_type": "code",
   "execution_count": 18,
   "metadata": {
    "scrolled": false
   },
   "outputs": [],
   "source": [
    "def normalize(panel_data):\n",
    "    return panel_data.sub(panel_data.mean(axis=1), axis=0).div(panel_data.std(axis=1),axis=0)\n",
    "\n",
    "# This function takes a panel of positions and returns a time series of returns (in $).\n",
    "def returns_from_positions(position_data, df_rtn, truncate_date):\n",
    "    return (position_data * df_rtn).truncate(before=truncate_date).sum(axis=1)\n",
    "\n",
    "# This function takes a time series of daily returns & returns an annualized Sharpe ratio.\n",
    "def sharpe_ratio(daily_return_series):\n",
    "    return round(daily_return_series.mean() / daily_return_series.std() * 252**0.5, 2)\n",
    "\n",
    "def rank_bin(panel_data, alpha):\n",
    "    if alpha <=0 or alpha>=0.5:\n",
    "        raise ValueError(\"Alpha should be greater than 0- and less than 0.5\")\n",
    "    return panel_data.apply(pd.qcut, axis=1, args=([0, alpha, 1-alpha, 1.],), labels=[-1,0,1]).astype(\"float64\")\n",
    "\n",
    "def benchmark_strategies(priceTable, start_date, end_date):\n",
    "    rtn = priceTable.loc[start_date:end_date].pct_change()*100\n",
    "    truncate_date = pd.to_datetime(start_date) + pd.DateOffset(years=1)\n",
    "    # mean reversion signal based on r(t-5) + ... + r(t-1)\n",
    "    mr_sig_raw = -rtn.shift(1).rolling(5).sum().dropna(how='all')\n",
    "    # momentum signal based on r(t-252) + ... + r(t-22)\n",
    "    mom_sig_raw = rtn.shift(22).rolling(231).sum().dropna(how='all')\n",
    "    print(mom_sig_raw.shape)\n",
    "    # Go long $1 for the top 40%, short $1 for the bottom 40%, and flat for the middle 20%.\n",
    "    mom_ranked_position = rank_bin(mom_sig_raw, 0.4)\n",
    "    mr_ranked_position = rank_bin(mr_sig_raw, 0.4)\n",
    "\n",
    "    mom_rtn = returns_from_positions(mom_ranked_position, rtn, truncate_date)\n",
    "    mr_rtn  = returns_from_positions(mr_ranked_position,  rtn, truncate_date)\n",
    "    \n",
    "    mr_SR = sharpe_ratio(mr_rtn)\n",
    "    mom_SR = sharpe_ratio(mom_rtn)\n",
    "    \n",
    "    both_rtn = 0.5*mom_rtn + 0.5*mr_rtn  # This is the return of a 50/50 portfolio of both strategies.\n",
    "    both_SR = sharpe_ratio(both_rtn)\n",
    "    \n",
    "    return mom_rtn.cumsum()/mom_rtn.std()*0.15, mr_rtn.cumsum()/mr_rtn.std()*0.15, both_rtn.cumsum()/both_rtn.std()*0.15, mom_SR, mr_SR, both_SR"
   ]
  },
  {
   "cell_type": "code",
   "execution_count": 13,
   "metadata": {
    "scrolled": true
   },
   "outputs": [],
   "source": [
    "def calculate_atr(stock_data, period=14):\n",
    "    high_low = stock_data['High'] - stock_data['Low']\n",
    "    high_close = np.abs(stock_data['High'] - stock_data['Close'].shift())\n",
    "    low_close = np.abs(stock_data['Low'] - stock_data['Close'].shift())\n",
    "    tr = pd.DataFrame({'high_low': high_low, 'high_close': high_close, 'low_close': low_close}).max(axis=1)\n",
    "    atr = tr.rolling(window=period).mean()\n",
    "    return atr\n",
    "\n",
    "def turtle_atr(stock, atr_period=14, X=2, Y=2):\n",
    "    # Calculate high, low, avg for original turtle strategy\n",
    "    stock['high'] = stock['Close'].shift(1).rolling(window=5).max()  # 5 day high\n",
    "    stock['low'] = stock['Close'].shift(1).rolling(window=5).min()   # 5 day low\n",
    "    stock['avg'] = stock['Close'].shift(1).rolling(window=5).mean()  # 5 day mean\n",
    "\n",
    "    # Calculate ATR\n",
    "    stock['ATR'] = calculate_atr(stock, atr_period)\n",
    "\n",
    "    # Position initialization\n",
    "    stock['positions_long'] = np.nan\n",
    "    stock['positions_short'] = np.nan\n",
    "\n",
    "    # Stop loss calculation\n",
    "    stock['long_stop_loss'] = stock['Close'] - (X * stock['ATR'])\n",
    "    stock['short_stop_loss'] = stock['Close'] + (X * stock['ATR'])\n",
    "    \n",
    "    # Adjust stop loss when a new high/low is reached\n",
    "    stock.loc[(stock['Close'] > stock['high']) & (stock['positions_long'] == 1), 'long_stop_loss'] = stock['Close'] - (X * stock['ATR'])\n",
    "    stock.loc[(stock['Close'] < stock['low']) & (stock['positions_short'] == -1), 'short_stop_loss'] = stock['Close'] + (X * stock['ATR'])\n",
    "\n",
    "    # Sliding stop loss\n",
    "    stock['long_stop_loss'] = stock['long_stop_loss'].ffill().where(stock['positions_long'] == 1)\n",
    "    stock['short_stop_loss'] = stock['short_stop_loss'].ffill().where(stock['positions_short'] == -1)\n",
    "\n",
    "    # Exit positions based on stop loss\n",
    "    stock.loc[stock['Close'] < stock['long_stop_loss'], 'positions_long'] = 0\n",
    "    stock.loc[stock['Close'] > stock['short_stop_loss'], 'positions_short'] = 0\n",
    "\n",
    "    # Exclusion zones\n",
    "    stock['long_exclusion_zone'] = stock['Close'] + (Y * stock['ATR'])\n",
    "    stock['short_exclusion_zone'] = stock['Close'] - (Y * stock['ATR'])\n",
    "    stock.loc[stock['Close'] < stock['long_exclusion_zone'], 'positions_long'] = 0\n",
    "    stock.loc[stock['Close'] > stock['short_exclusion_zone'], 'positions_short'] = 0\n",
    "\n",
    "    # Combine long and short positions\n",
    "    stock['positions'] = stock['positions_long'].fillna(0) + stock['positions_short'].fillna(0)\n",
    "\n",
    "    # Calculate strategy returns\n",
    "    stock['log_returns'] = np.log(stock['Close'] / stock['Close'].shift())\n",
    "    stock['strategy_returns'] = stock['positions'].shift(1) * stock['log_returns']\n",
    "\n",
    "    return stock['strategy_returns'].cumsum()\n",
    "\n",
    "def turtle_returns(priceTable, start_date, end_date, atr_period=14, X=2, Y=2):\n",
    "    truncate_date = pd.to_datetime(start_date) + pd.DateOffset(years=1)\n",
    "    daterange = pd.date_range(start=start_date, end=end_date, freq='D')\n",
    "    totalret = pd.DataFrame(index=daterange) \n",
    "    for stock_ticker in mySymbols:\n",
    "        totalret[stock_ticker] = turtle_atr(priceTablesByTicker[stock_ticker], atr_period, X, Y)  \n",
    "    tt_sig_raw = totalret.dropna(how='all')\n",
    "    tt_sig_norm = normalize(tt_sig_raw)\n",
    "    \n",
    "    rtn = priceTable.loc[start_date:end_date].pct_change() * 100\n",
    "      \n",
    "    #tt_ranked_position = rank_bin(tt_sig_raw, 0.4)\n",
    "    \n",
    "    tt_rtn  = returns_from_positions(tt_sig_norm/(574-1),  rtn, truncate_date)\n",
    "    \n",
    "    tt_SR = sharpe_ratio(tt_rtn)\n",
    "    # Originally return tt_rtn.cumsum()/tt_rtn.std()*0.15, tt_SR\n",
    "    return tt_rtn.cumsum()/tt_rtn.std()*0.15, tt_SR"
   ]
  },
  {
   "cell_type": "code",
   "execution_count": 14,
   "metadata": {
    "scrolled": true
   },
   "outputs": [],
   "source": [
    "both_sharpe_map = {}\n",
    "turtle_sharpe_to_parameter = {} # Map\n",
    "winning_turtle_to_parameter = {} # Map from turtle sharpe to its parameters\n",
    "turtle_wins = 0\n",
    "total = 0"
   ]
  },
  {
   "cell_type": "code",
   "execution_count": 15,
   "metadata": {
    "scrolled": true
   },
   "outputs": [],
   "source": [
    "def printSharpesInDescending(parameter, turtle_sharpe_to_parameter):\n",
    "    myKeys = list(turtle_sharpe_to_parameter.keys())  \n",
    "    myKeys.sort(reverse=True)\n",
    "    sorted_dict = {i: turtle_sharpe_to_parameter[i] for i in myKeys}\n",
    "    # Sharpe and dates printed in descending order\n",
    "    for i in myKeys:\n",
    "        print(\"Turtle Sharpe Ratio is \", i, \" for \", parameter, \" \", turtle_sharpe_to_parameter[i])\n",
    "    \n",
    "    #if len(turtle_sharpe_to_parameter[0] == 1):\n",
    "        \n",
    "        \n",
    "def printTurtleWins(parameter, winning_turtle_to_parameter):\n",
    "    print(\"Turtle performed better \",  turtle_wins, \" out of \",  total, \" times\")\n",
    "    myKeys = list(winning_turtle_to_parameter.keys())\n",
    "    myKeys.sort(reverse=True)\n",
    "    sorted_dict = {i: winning_turtle_to_parameter[i] for i in myKeys}\n",
    "\n",
    "    #Sharpe and dates printed in descending order\n",
    "    for i in myKeys:\n",
    "        print(\"Winning turtle Sharpe Ratio is \", i, \" for \", parameter, \": \", winning_turtle_to_parameter[i])\n",
    "\n",
    "def plotParameterToSharpe(x, y, data):\n",
    "    # Extracting keys and values\n",
    "    keys = list(data.keys())\n",
    "    keys.sort()\n",
    "    values = list(data.values())\n",
    "    # Plotting\n",
    "    plt.figure(figsize=(10, 6))\n",
    "    plt.plot(keys, values, marker='o', linestyle='-')\n",
    "    string = 'Mapping ' +  x  + ' to ' + y\n",
    "    plt.title(string)\n",
    "    plt.xlabel(x)\n",
    "    plt.ylabel(y)\n",
    "    plt.grid(True)\n",
    "    plt.show()"
   ]
  },
  {
   "cell_type": "markdown",
   "metadata": {},
   "source": [
    "# Different Date Ranges"
   ]
  },
  {
   "cell_type": "code",
   "execution_count": 16,
   "metadata": {
    "scrolled": false
   },
   "outputs": [
    {
     "name": "stdout",
     "output_type": "stream",
     "text": [
      "(3223, 86)\n",
      "0\n"
     ]
    },
    {
     "data": {
      "image/png": "[encoded data removed]",
      "text/plain": [
       "<Figure size 640x480 with 1 Axes>"
      ]
     },
     "metadata": {},
     "output_type": "display_data"
    },
    {
     "name": "stdout",
     "output_type": "stream",
     "text": [
      "Date Range: 2011-02-01  to  2024-02-01\n",
      "Sharpe for MoM, MR, and Both: 0 0 0\n",
      "Sharpe for Turtle: 0\n",
      "(246, 86)\n",
      "1\n",
      "(242, 86)\n",
      "2\n",
      "(241, 86)\n",
      "3\n",
      "(254, 86)\n",
      "4\n",
      "(239, 86)\n",
      "5\n",
      "(241, 86)\n",
      "6\n",
      "(246, 86)\n",
      "7\n",
      "(495, 86)\n",
      "8\n",
      "(487, 86)\n",
      "9\n",
      "(498, 86)\n",
      "10\n",
      "(488, 86)\n",
      "11\n",
      "(491, 86)\n",
      "12\n",
      "(740, 86)\n",
      "13\n",
      "(747, 86)\n",
      "14\n",
      "(733, 86)\n",
      "15\n",
      "(739, 86)\n",
      "16\n",
      "(989, 86)\n",
      "17\n",
      "(990, 86)\n",
      "18\n",
      "(986, 86)\n",
      "19\n",
      "(1234, 86)\n",
      "20\n",
      "(1239, 86)\n",
      "21\n",
      "(1231, 86)\n",
      "22\n",
      "(1740, 86)\n",
      "23\n",
      "(1737, 86)\n",
      "24\n"
     ]
    }
   ],
   "source": [
    "data = []\n",
    "\n",
    "for i, dates in enumerate(date_iterations):\n",
    "    normalized_mom, normalized_mr, normalized_both, mom_sr, mr_sr, both_sr = benchmark_strategies(priceTable, *dates)\n",
    "    both_sr = round(both_sr, 2)\n",
    "    mom_sr = round(mom_sr, 2)\n",
    "    mr_sr = round(mr_sr, 2)\n",
    "    both_sharpe_map[both_sr] = (dates, normalized_mom, normalized_mr, normalized_both, mom_sr, mr_sr)\n",
    "    normalized_turtle, turtle_sr = turtle_returns(priceTable, dates[0], dates[1])\n",
    "    turtle_sr = round(turtle_sr, 2)\n",
    "    turtle_sharpe_to_parameter[turtle_sr] = dates\n",
    "    \n",
    "    data.append({\n",
    "        'Start Date': dates[0],\n",
    "        'End Date': dates[1],\n",
    "        'Combined Sharpe': both_sr,\n",
    "        'Turtle Sharpe': turtle_sr\n",
    "    })\n",
    "    if i == 0:\n",
    "        plt.figure()\n",
    "        normalized_mom.plot() # Blue\n",
    "        normalized_mr.plot() # Orange\n",
    "        normalized_both.plot() # Green\n",
    "        normalized_turtle.plot() # Red\n",
    "    if turtle_sr > both_sr:\n",
    "        turtle_wins += 1\n",
    "        winning_turtle_to_parameter[turtle_sr] = dates\n",
    "    total += 1\n",
    "    print(i)\n",
    "    if i == 0:\n",
    "        year = dates[0][:4]\n",
    "        year_num = int(year)\n",
    "        year_num += 1\n",
    "        trunc_date = str(year_num) + dates[0][4:]\n",
    "        plt.xlim(trunc_date, dates[1])\n",
    "        plt.show()\n",
    "        print(\"Date Range:\", trunc_date, \" to \", dates[1])\n",
    "        print(\"Sharpe for MoM, MR, and Both:\", mom_sr, mr_sr, both_sr)\n",
    "        print(\"Sharpe for Turtle:\", turtle_sr)\n",
    "\n",
    "df = pd.DataFrame(data)\n",
    "#df.to_excel('output_file.xlsx', index=False)"
   ]
  },
  {
   "cell_type": "code",
   "execution_count": 17,
   "metadata": {
    "scrolled": false
   },
   "outputs": [
    {
     "name": "stdout",
     "output_type": "stream",
     "text": [
      "Turtle Sharpe Ratio is  0  for  dates   ('2010-02-01', '2018-02-01')\n"
     ]
    }
   ],
   "source": [
    "printSharpesInDescending(\"dates\", turtle_sharpe_to_parameter)"
   ]
  },
  {
   "cell_type": "code",
   "execution_count": null,
   "metadata": {
    "scrolled": true
   },
   "outputs": [],
   "source": [
    "printTurtleWins(\"dates\", winning_turtle_to_parameter)"
   ]
  },
  {
   "cell_type": "markdown",
   "metadata": {},
   "source": [
    "# Different ATR Periods - DON'T RUN AGAIN"
   ]
  },
  {
   "cell_type": "code",
   "execution_count": 102,
   "metadata": {
    "scrolled": true
   },
   "outputs": [
    {
     "name": "stdout",
     "output_type": "stream",
     "text": [
      "Turtle Sharpe Ratio is  0.22  for  ATR Period   14\n",
      "Turtle Sharpe Ratio is  0.21  for  ATR Period   10\n",
      "Turtle Sharpe Ratio is  0.17  for  ATR Period   28\n",
      "Turtle Sharpe Ratio is  0.15  for  ATR Period   32\n",
      "Turtle Sharpe Ratio is  0.13  for  ATR Period   35\n",
      "Turtle Sharpe Ratio is  0.09  for  ATR Period   42\n",
      "Turtle Sharpe Ratio is  0.07  for  ATR Period   7\n",
      "Turtle Sharpe Ratio is  -0.0  for  ATR Period   49\n",
      "Turtle Sharpe Ratio is  -0.09  for  ATR Period   63\n",
      "Turtle Sharpe Ratio is  -0.13  for  ATR Period   56\n"
     ]
    }
   ],
   "source": [
    "both_sharpe_map = {}\n",
    "turtle_sharpe_to_parameter = {} # Map\n",
    "parameter_to_turtle_sharpe = {}\n",
    "parameter_to_graph_data = {}\n",
    "winning_turtle_to_parameter = {} # Map from turtle sharpe to its parameters\n",
    "turtle_wins = 0\n",
    "total = 0\n",
    "\n",
    "for i, atr in enumerate(atr_period_iterations):\n",
    "    normalized_turtle, turtle_sr = turtle_returns(priceTable, *date_iterations[0], atr_period=atr)\n",
    "    turtle_sr = round(turtle_sr, 2)\n",
    "    turtle_sharpe_to_parameter[turtle_sr] = atr\n",
    "    parameter_to_turtle_sharpe[atr] = turtle_sr\n",
    "    #parameter_to_graph_data[atr] = normalized_turtle    \n",
    "\n",
    "printSharpesInDescending(\"ATR Period\", turtle_sharpe_to_parameter)    "
   ]
  },
  {
   "cell_type": "code",
   "execution_count": 103,
   "metadata": {
    "scrolled": false
   },
   "outputs": [
    {
     "data": {
      "image/png": "[encoded data removed]",
      "text/plain": [
       "<Figure size 1000x600 with 1 Axes>"
      ]
     },
     "metadata": {},
     "output_type": "display_data"
    }
   ],
   "source": [
    "plotParameterToSharpe(\"ATR\", \"Sharpe Ratio\", parameter_to_turtle_sharpe)"
   ]
  },
  {
   "cell_type": "markdown",
   "metadata": {},
   "source": [
    "# Different widths of stop loss - TAKES A LONG TIME TO RUN"
   ]
  },
  {
   "cell_type": "code",
   "execution_count": 104,
   "metadata": {},
   "outputs": [
    {
     "name": "stdout",
     "output_type": "stream",
     "text": [
      "1 0.21\n"
     ]
    },
    {
     "ename": "NameError",
     "evalue": "name 'j' is not defined",
     "output_type": "error",
     "traceback": [
      "\u001b[1;31m---------------------------------------------------------------------------\u001b[0m",
      "\u001b[1;31mNameError\u001b[0m                                 Traceback (most recent call last)",
      "Cell \u001b[1;32mIn[104], line 16\u001b[0m\n\u001b[0;32m     14\u001b[0m \u001b[38;5;28mprint\u001b[39m(x, turtle_sr)\n\u001b[0;32m     15\u001b[0m tot_turtle_sr \u001b[38;5;241m+\u001b[39m\u001b[38;5;241m=\u001b[39m turtle_sr\n\u001b[1;32m---> 16\u001b[0m turtle_sr \u001b[38;5;241m=\u001b[39m tot_turtle_sr \u001b[38;5;241m/\u001b[39m (j \u001b[38;5;241m+\u001b[39m \u001b[38;5;241m1\u001b[39m)\n\u001b[0;32m     17\u001b[0m turtle_sharpe_to_parameter[turtle_sr] \u001b[38;5;241m=\u001b[39m x\n\u001b[0;32m     18\u001b[0m parameter_to_turtle_sharpe[x] \u001b[38;5;241m=\u001b[39m turtle_sr\n",
      "\u001b[1;31mNameError\u001b[0m: name 'j' is not defined"
     ]
    }
   ],
   "source": [
    "both_sharpe_map = {}\n",
    "turtle_sharpe_to_parameter = {} # Map\n",
    "parameter_to_turtle_sharpe = {}\n",
    "parameter_to_graph_data = {}\n",
    "winning_turtle_to_parameter = {} # Map from turtle sharpe to its parameters\n",
    "turtle_wins = 0\n",
    "total = 0\n",
    "\n",
    "for i, x in enumerate(X):\n",
    "    tot_turtle_sr = 0\n",
    "    #for j, dates in enumerate(date_iterations):\n",
    "    normalized_turtle, turtle_sr = turtle_returns(priceTable, *date_iterations[0], atr_period=10, X=x)\n",
    "    turtle_sr = round(turtle_sr, 2)\n",
    "    print(x, turtle_sr)\n",
    "    tot_turtle_sr += turtle_sr\n",
    "    turtle_sr = tot_turtle_sr / (j + 1)\n",
    "    turtle_sharpe_to_parameter[turtle_sr] = x\n",
    "    parameter_to_turtle_sharpe[x] = turtle_sr\n",
    "    \n",
    "printSharpesInDescending(\"Width of the stop loss zone\", turtle_sharpe_to_parameter)    "
   ]
  },
  {
   "cell_type": "code",
   "execution_count": null,
   "metadata": {},
   "outputs": [],
   "source": [
    "plotParameterToSharpe(\"X\", \"Sharpe Ratio\", parameter_to_turtle_sharpe)"
   ]
  },
  {
   "cell_type": "markdown",
   "metadata": {},
   "source": [
    "# Different widths of position barriers - TAKES A LONG TIME TO RUN"
   ]
  },
  {
   "cell_type": "code",
   "execution_count": null,
   "metadata": {},
   "outputs": [],
   "source": [
    "both_sharpe_map = {}\n",
    "turtle_sharpe_to_parameter = {} # Map\n",
    "parameter_to_turtle_sharpe = {}\n",
    "parameter_to_graph_data = {}\n",
    "winning_turtle_to_parameter = {} # Map from turtle sharpe to its parameters\n",
    "turtle_wins = 0\n",
    "total = 0\n",
    "\n",
    "for i, y in enumerate(Y):\n",
    "    tot_turtle_sr = 0\n",
    "    #for j, dates in enumerate(date_iterations):\n",
    "    normalized_turtle, turtle_sr = turtle_returns(priceTable, *date_iterations[10], atr_period=10, Y=y)\n",
    "    turtle_sr = round(turtle_sr, 2)\n",
    "    print(y, turtle_sr)\n",
    "    tot_turtle_sr += turtle_sr\n",
    "    turtle_sr = tot_turtle_sr / (j + 1)\n",
    "    turtle_sharpe_to_parameter[turtle_sr] = y\n",
    "    parameter_to_turtle_sharpe[y] = turtle_sr\n",
    "    \n",
    "printSharpesInDescending(\"width of position barrier\", turtle_sharpe_to_parameter)   "
   ]
  },
  {
   "cell_type": "code",
   "execution_count": null,
   "metadata": {},
   "outputs": [],
   "source": []
  },
  {
   "cell_type": "code",
   "execution_count": null,
   "metadata": {},
   "outputs": [],
   "source": []
  }
 ],
 "metadata": {
  "kernelspec": {
   "display_name": "Python 3 (ipykernel)",
   "language": "python",
   "name": "python3"
  },
  "language_info": {
   "codemirror_mode": {
    "name": "ipython",
    "version": 3
   },
   "file_extension": ".py",
   "mimetype": "text/x-python",
   "name": "python",
   "nbconvert_exporter": "python",
   "pygments_lexer": "ipython3",
   "version": "3.11.4"
  }
 },
 "nbformat": 4,
 "nbformat_minor": 4
}
